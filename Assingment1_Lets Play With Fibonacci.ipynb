{
 "cells": [
  {
   "cell_type": "code",
   "execution_count": 1,
   "id": "5a3b81d0",
   "metadata": {},
   "outputs": [],
   "source": [
    "# Python program to get the Fibonacci series between 0 to 50"
   ]
  },
  {
   "cell_type": "code",
   "execution_count": 3,
   "id": "4e07a064",
   "metadata": {},
   "outputs": [
    {
     "name": "stdout",
     "output_type": "stream",
     "text": [
      "1\n",
      "1\n",
      "2\n",
      "3\n",
      "5\n",
      "8\n",
      "13\n",
      "21\n",
      "34\n"
     ]
    }
   ],
   "source": [
    "a=0\n",
    "b=1\n",
    "\n",
    "while b<50:\n",
    "    print(b)\n",
    "    c=a\n",
    "    a=b\n",
    "    b=c+a"
   ]
  },
  {
   "cell_type": "code",
   "execution_count": null,
   "id": "56c11494",
   "metadata": {},
   "outputs": [],
   "source": []
  }
 ],
 "metadata": {
  "kernelspec": {
   "display_name": "Python 3 (ipykernel)",
   "language": "python",
   "name": "python3"
  },
  "language_info": {
   "codemirror_mode": {
    "name": "ipython",
    "version": 3
   },
   "file_extension": ".py",
   "mimetype": "text/x-python",
   "name": "python",
   "nbconvert_exporter": "python",
   "pygments_lexer": "ipython3",
   "version": "3.9.7"
  }
 },
 "nbformat": 4,
 "nbformat_minor": 5
}
